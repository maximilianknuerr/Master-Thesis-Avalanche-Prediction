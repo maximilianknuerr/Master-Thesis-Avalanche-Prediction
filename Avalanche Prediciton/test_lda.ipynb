{
 "cells": [
  {
   "cell_type": "code",
   "execution_count": 2,
   "metadata": {
    "collapsed": true
   },
   "outputs": [],
   "source": [
    "import pandas as pd"
   ]
  },
  {
   "cell_type": "code",
   "execution_count": 3,
   "outputs": [],
   "source": [
    "avalanche_set = pd.read_csv('newData/gesamt_set_1.csv', sep=',')"
   ],
   "metadata": {
    "collapsed": false,
    "pycharm": {
     "name": "#%%\n"
    }
   }
  },
  {
   "cell_type": "code",
   "execution_count": 52,
   "outputs": [],
   "source": [
    "avalanche_set['ID'] = avalanche_set['ID'].fillna(0)\n",
    "avalanche_set = avalanche_set.drop([ 'Datum','Intervall', 'ID'], axis=1)\n",
    "avalanche_set = avalanche_set.dropna()"
   ],
   "metadata": {
    "collapsed": false,
    "pycharm": {
     "name": "#%%\n"
    }
   }
  },
  {
   "cell_type": "code",
   "source": [
    "from sklearn.pipeline import make_pipeline\n",
    "from sklearn.preprocessing import StandardScaler\n",
    "from sklearn.discriminant_analysis import LinearDiscriminantAnalysis\n",
    "from sklearn.model_selection import cross_val_score\n",
    "import statistics\n",
    "\n",
    "feature_names = avalanche_set.columns.drop('Avalanche')\n",
    "X = avalanche_set[avalanche_set.columns.drop('Avalanche')]\n",
    "y = avalanche_set['Avalanche']\n",
    "\n",
    "clf = make_pipeline(StandardScaler(), LinearDiscriminantAnalysis())\n",
    "\n",
    "cvs = cross_val_score(clf, X, y, cv=10)"
   ],
   "metadata": {
    "collapsed": false,
    "pycharm": {
     "name": "#%%\n"
    }
   },
   "execution_count": 53,
   "outputs": []
  },
  {
   "cell_type": "code",
   "execution_count": 54,
   "outputs": [
    {
     "name": "stdout",
     "output_type": "stream",
     "text": [
      "0.727236953552743\n"
     ]
    }
   ],
   "source": [
    "print(statistics.mean(cvs))"
   ],
   "metadata": {
    "collapsed": false,
    "pycharm": {
     "name": "#%%\n"
    }
   }
  },
  {
   "cell_type": "code",
   "execution_count": 55,
   "outputs": [],
   "source": [
    "cvs = cross_val_score(clf, X, y, cv=10, scoring=\"precision\")"
   ],
   "metadata": {
    "collapsed": false,
    "pycharm": {
     "name": "#%%\n"
    }
   }
  },
  {
   "cell_type": "code",
   "execution_count": 56,
   "outputs": [
    {
     "name": "stdout",
     "output_type": "stream",
     "text": [
      "0.6847103726513817\n"
     ]
    }
   ],
   "source": [
    "print(statistics.mean(cvs))"
   ],
   "metadata": {
    "collapsed": false,
    "pycharm": {
     "name": "#%%\n"
    }
   }
  },
  {
   "cell_type": "code",
   "execution_count": 57,
   "outputs": [],
   "source": [
    "cvs = cross_val_score(clf, X, y, cv=5, scoring=\"precision\")"
   ],
   "metadata": {
    "collapsed": false,
    "pycharm": {
     "name": "#%%\n"
    }
   }
  },
  {
   "cell_type": "code",
   "execution_count": 58,
   "outputs": [
    {
     "name": "stdout",
     "output_type": "stream",
     "text": [
      "0.6778013796845902\n"
     ]
    }
   ],
   "source": [
    "print(statistics.mean(cvs))"
   ],
   "metadata": {
    "collapsed": false,
    "pycharm": {
     "name": "#%%\n"
    }
   }
  },
  {
   "cell_type": "code",
   "execution_count": 59,
   "outputs": [],
   "source": [
    "cvs = cross_val_score(clf, X, y, cv=10, scoring=\"recall\")"
   ],
   "metadata": {
    "collapsed": false,
    "pycharm": {
     "name": "#%%\n"
    }
   }
  },
  {
   "cell_type": "code",
   "execution_count": 60,
   "outputs": [
    {
     "name": "stdout",
     "output_type": "stream",
     "text": [
      "0.5585804763871678\n"
     ]
    }
   ],
   "source": [
    "print(statistics.mean(cvs))"
   ],
   "metadata": {
    "collapsed": false,
    "pycharm": {
     "name": "#%%\n"
    }
   }
  },
  {
   "cell_type": "code",
   "execution_count": 69,
   "outputs": [
    {
     "data": {
      "text/plain": "      Schneehöhe  Niederschlag  Lufttemperatur_7h  Lufttemperatur_7h_Gew  \\\n0           20.0           0.0               -1.4                99999.0   \n1           19.0           0.0                3.9                   -5.6   \n2           19.0           9.1                7.6                   15.6   \n3            4.0           5.3               -6.0                   30.4   \n4           10.0           7.3               -5.1                  -24.0   \n...          ...           ...                ...                    ...   \n7016       175.0          16.0               -9.0                  -36.0   \n7017       155.0           8.0                4.0                  -36.0   \n7018       149.0           0.0               -1.0                   16.0   \n7019       144.0           0.0               -2.0                   -4.0   \n7020       149.0           7.0              -14.0                   -8.0   \n\n      Lufttemperatur_14h_Norm  Lufttemperatur_14h_Gew  Lufttemperatur_19h  \\\n0                        20.8                 99999.0                 4.6   \n1                        28.0                    10.4                 3.2   \n2                        37.6                    14.0                 2.7   \n3                       -60.8                    18.8                -4.4   \n4                       -33.6                   -30.4                -2.7   \n...                       ...                     ...                 ...   \n7016                     -8.0                   -40.0                -1.0   \n7017                     64.0                    -4.0                 5.0   \n7018                      8.0                    32.0                -1.0   \n7019                    -48.0                     4.0               -10.0   \n7020                      0.0                   -24.0                 0.0   \n\n      Schneetemperatur  Windrichtung_Gew  Windstärke_Norm  ...  \\\n0                  0.0      9.999900e+04     2.545584e+00  ...   \n1                  0.0     -7.071068e-01    -3.674616e-11  ...   \n2                  0.0     -1.000000e+00    -2.880000e+01  ...   \n3                  0.0      1.224819e-10     2.204770e-10  ...   \n4                  0.0      3.000000e+00     2.204770e-10  ...   \n...                ...               ...              ...  ...   \n7016             -11.0      4.756628e+00    -1.999376e+01  ...   \n7017              -6.0     -4.660210e+00    -1.571923e+01  ...   \n7018             -16.0     -3.663889e+00     0.000000e+00  ...   \n7019              -7.0      0.000000e+00    -1.069145e+01  ...   \n7020             -20.0      2.969848e+00     0.000000e+00  ...   \n\n      windstaerke_last1  windstaerke_last2  Lufttemperatur_last4    meanExpo  \\\n0          0.000000e+00       0.000000e+00              0.000000  240.622592   \n1          2.545584e+00       0.000000e+00              0.000000   86.721312   \n2         -3.674616e-11       2.545584e+00              0.000000   95.782919   \n3         -2.880000e+01      -3.674616e-11              0.000000  236.817015   \n4          2.204770e-10      -2.880000e+01             15.466667  271.664767   \n...                 ...                ...                   ...         ...   \n7016       2.040742e+01      -3.693818e+00              2.666667   62.004911   \n7017      -1.999376e+01       2.040742e+01            -10.666667   86.721312   \n7018      -1.571923e+01      -1.999376e+01            -40.000000    2.980625   \n7019       0.000000e+00      -1.571923e+01            -80.000000   98.851562   \n7020      -1.069145e+01       0.000000e+00            -29.333333    2.980625   \n\n      meanSlope  stdDevSlope   MinSlope   MaxSlope     Altitude  Avalanche  \n0     40.215386     6.827700   3.598443  60.656714  2925.378871          0  \n1     43.193688     9.617375   0.000000  71.591813  2461.506438          0  \n2     42.465800     8.184500   0.000000  61.137880  2423.430860          0  \n3     36.165750     5.320700  23.699150  52.545750  2344.716550          0  \n4     41.924600     4.659500  33.076000  54.920900  1980.761100          0  \n...         ...          ...        ...        ...          ...        ...  \n7016  41.474100     8.876500   1.418093  65.950220  2223.063053          1  \n7017  43.193688     9.617375   0.000000  71.591813  2461.506438          0  \n7018  37.066700     6.003100  13.586900  50.025850  1967.563900          0  \n7019  41.040858     8.651008   6.873767  71.013708  2637.582267          0  \n7020  37.066700     6.003100  13.586900  50.025850  1967.563900          0  \n\n[7021 rows x 25 columns]",
      "text/html": "<div>\n<style scoped>\n    .dataframe tbody tr th:only-of-type {\n        vertical-align: middle;\n    }\n\n    .dataframe tbody tr th {\n        vertical-align: top;\n    }\n\n    .dataframe thead th {\n        text-align: right;\n    }\n</style>\n<table border=\"1\" class=\"dataframe\">\n  <thead>\n    <tr style=\"text-align: right;\">\n      <th></th>\n      <th>Schneehöhe</th>\n      <th>Niederschlag</th>\n      <th>Lufttemperatur_7h</th>\n      <th>Lufttemperatur_7h_Gew</th>\n      <th>Lufttemperatur_14h_Norm</th>\n      <th>Lufttemperatur_14h_Gew</th>\n      <th>Lufttemperatur_19h</th>\n      <th>Schneetemperatur</th>\n      <th>Windrichtung_Gew</th>\n      <th>Windstärke_Norm</th>\n      <th>...</th>\n      <th>windstaerke_last1</th>\n      <th>windstaerke_last2</th>\n      <th>Lufttemperatur_last4</th>\n      <th>meanExpo</th>\n      <th>meanSlope</th>\n      <th>stdDevSlope</th>\n      <th>MinSlope</th>\n      <th>MaxSlope</th>\n      <th>Altitude</th>\n      <th>Avalanche</th>\n    </tr>\n  </thead>\n  <tbody>\n    <tr>\n      <th>0</th>\n      <td>20.0</td>\n      <td>0.0</td>\n      <td>-1.4</td>\n      <td>99999.0</td>\n      <td>20.8</td>\n      <td>99999.0</td>\n      <td>4.6</td>\n      <td>0.0</td>\n      <td>9.999900e+04</td>\n      <td>2.545584e+00</td>\n      <td>...</td>\n      <td>0.000000e+00</td>\n      <td>0.000000e+00</td>\n      <td>0.000000</td>\n      <td>240.622592</td>\n      <td>40.215386</td>\n      <td>6.827700</td>\n      <td>3.598443</td>\n      <td>60.656714</td>\n      <td>2925.378871</td>\n      <td>0</td>\n    </tr>\n    <tr>\n      <th>1</th>\n      <td>19.0</td>\n      <td>0.0</td>\n      <td>3.9</td>\n      <td>-5.6</td>\n      <td>28.0</td>\n      <td>10.4</td>\n      <td>3.2</td>\n      <td>0.0</td>\n      <td>-7.071068e-01</td>\n      <td>-3.674616e-11</td>\n      <td>...</td>\n      <td>2.545584e+00</td>\n      <td>0.000000e+00</td>\n      <td>0.000000</td>\n      <td>86.721312</td>\n      <td>43.193688</td>\n      <td>9.617375</td>\n      <td>0.000000</td>\n      <td>71.591813</td>\n      <td>2461.506438</td>\n      <td>0</td>\n    </tr>\n    <tr>\n      <th>2</th>\n      <td>19.0</td>\n      <td>9.1</td>\n      <td>7.6</td>\n      <td>15.6</td>\n      <td>37.6</td>\n      <td>14.0</td>\n      <td>2.7</td>\n      <td>0.0</td>\n      <td>-1.000000e+00</td>\n      <td>-2.880000e+01</td>\n      <td>...</td>\n      <td>-3.674616e-11</td>\n      <td>2.545584e+00</td>\n      <td>0.000000</td>\n      <td>95.782919</td>\n      <td>42.465800</td>\n      <td>8.184500</td>\n      <td>0.000000</td>\n      <td>61.137880</td>\n      <td>2423.430860</td>\n      <td>0</td>\n    </tr>\n    <tr>\n      <th>3</th>\n      <td>4.0</td>\n      <td>5.3</td>\n      <td>-6.0</td>\n      <td>30.4</td>\n      <td>-60.8</td>\n      <td>18.8</td>\n      <td>-4.4</td>\n      <td>0.0</td>\n      <td>1.224819e-10</td>\n      <td>2.204770e-10</td>\n      <td>...</td>\n      <td>-2.880000e+01</td>\n      <td>-3.674616e-11</td>\n      <td>0.000000</td>\n      <td>236.817015</td>\n      <td>36.165750</td>\n      <td>5.320700</td>\n      <td>23.699150</td>\n      <td>52.545750</td>\n      <td>2344.716550</td>\n      <td>0</td>\n    </tr>\n    <tr>\n      <th>4</th>\n      <td>10.0</td>\n      <td>7.3</td>\n      <td>-5.1</td>\n      <td>-24.0</td>\n      <td>-33.6</td>\n      <td>-30.4</td>\n      <td>-2.7</td>\n      <td>0.0</td>\n      <td>3.000000e+00</td>\n      <td>2.204770e-10</td>\n      <td>...</td>\n      <td>2.204770e-10</td>\n      <td>-2.880000e+01</td>\n      <td>15.466667</td>\n      <td>271.664767</td>\n      <td>41.924600</td>\n      <td>4.659500</td>\n      <td>33.076000</td>\n      <td>54.920900</td>\n      <td>1980.761100</td>\n      <td>0</td>\n    </tr>\n    <tr>\n      <th>...</th>\n      <td>...</td>\n      <td>...</td>\n      <td>...</td>\n      <td>...</td>\n      <td>...</td>\n      <td>...</td>\n      <td>...</td>\n      <td>...</td>\n      <td>...</td>\n      <td>...</td>\n      <td>...</td>\n      <td>...</td>\n      <td>...</td>\n      <td>...</td>\n      <td>...</td>\n      <td>...</td>\n      <td>...</td>\n      <td>...</td>\n      <td>...</td>\n      <td>...</td>\n      <td>...</td>\n    </tr>\n    <tr>\n      <th>7016</th>\n      <td>175.0</td>\n      <td>16.0</td>\n      <td>-9.0</td>\n      <td>-36.0</td>\n      <td>-8.0</td>\n      <td>-40.0</td>\n      <td>-1.0</td>\n      <td>-11.0</td>\n      <td>4.756628e+00</td>\n      <td>-1.999376e+01</td>\n      <td>...</td>\n      <td>2.040742e+01</td>\n      <td>-3.693818e+00</td>\n      <td>2.666667</td>\n      <td>62.004911</td>\n      <td>41.474100</td>\n      <td>8.876500</td>\n      <td>1.418093</td>\n      <td>65.950220</td>\n      <td>2223.063053</td>\n      <td>1</td>\n    </tr>\n    <tr>\n      <th>7017</th>\n      <td>155.0</td>\n      <td>8.0</td>\n      <td>4.0</td>\n      <td>-36.0</td>\n      <td>64.0</td>\n      <td>-4.0</td>\n      <td>5.0</td>\n      <td>-6.0</td>\n      <td>-4.660210e+00</td>\n      <td>-1.571923e+01</td>\n      <td>...</td>\n      <td>-1.999376e+01</td>\n      <td>2.040742e+01</td>\n      <td>-10.666667</td>\n      <td>86.721312</td>\n      <td>43.193688</td>\n      <td>9.617375</td>\n      <td>0.000000</td>\n      <td>71.591813</td>\n      <td>2461.506438</td>\n      <td>0</td>\n    </tr>\n    <tr>\n      <th>7018</th>\n      <td>149.0</td>\n      <td>0.0</td>\n      <td>-1.0</td>\n      <td>16.0</td>\n      <td>8.0</td>\n      <td>32.0</td>\n      <td>-1.0</td>\n      <td>-16.0</td>\n      <td>-3.663889e+00</td>\n      <td>0.000000e+00</td>\n      <td>...</td>\n      <td>-1.571923e+01</td>\n      <td>-1.999376e+01</td>\n      <td>-40.000000</td>\n      <td>2.980625</td>\n      <td>37.066700</td>\n      <td>6.003100</td>\n      <td>13.586900</td>\n      <td>50.025850</td>\n      <td>1967.563900</td>\n      <td>0</td>\n    </tr>\n    <tr>\n      <th>7019</th>\n      <td>144.0</td>\n      <td>0.0</td>\n      <td>-2.0</td>\n      <td>-4.0</td>\n      <td>-48.0</td>\n      <td>4.0</td>\n      <td>-10.0</td>\n      <td>-7.0</td>\n      <td>0.000000e+00</td>\n      <td>-1.069145e+01</td>\n      <td>...</td>\n      <td>0.000000e+00</td>\n      <td>-1.571923e+01</td>\n      <td>-80.000000</td>\n      <td>98.851562</td>\n      <td>41.040858</td>\n      <td>8.651008</td>\n      <td>6.873767</td>\n      <td>71.013708</td>\n      <td>2637.582267</td>\n      <td>0</td>\n    </tr>\n    <tr>\n      <th>7020</th>\n      <td>149.0</td>\n      <td>7.0</td>\n      <td>-14.0</td>\n      <td>-8.0</td>\n      <td>0.0</td>\n      <td>-24.0</td>\n      <td>0.0</td>\n      <td>-20.0</td>\n      <td>2.969848e+00</td>\n      <td>0.000000e+00</td>\n      <td>...</td>\n      <td>-1.069145e+01</td>\n      <td>0.000000e+00</td>\n      <td>-29.333333</td>\n      <td>2.980625</td>\n      <td>37.066700</td>\n      <td>6.003100</td>\n      <td>13.586900</td>\n      <td>50.025850</td>\n      <td>1967.563900</td>\n      <td>0</td>\n    </tr>\n  </tbody>\n</table>\n<p>7021 rows × 25 columns</p>\n</div>"
     },
     "execution_count": 69,
     "metadata": {},
     "output_type": "execute_result"
    }
   ],
   "source": [
    "features_selected_set = avalanche_set[['Schneehöhe',\n",
    "                                       'Niederschlag',\n",
    "                                       'Lufttemperatur_7h',\n",
    "                                       'Lufttemperatur_7h_Gew',\n",
    "                                       'Lufttemperatur_14h_Norm',\n",
    "                                       'Lufttemperatur_14h_Gew',\n",
    "                                       'Lufttemperatur_19h',\n",
    "                                       'Schneetemperatur',\n",
    "                                       'Windrichtung_Gew',\n",
    "                                       'Windstärke_Norm',\n",
    "                                       'Einsinktiefe_Norm',\n",
    "                                       'Wetter_akt',\n",
    "                                       'Neuschnee_Norm',\n",
    "                                       'Neuschnee_last4',\n",
    "                                       'Neuschnee_last2',\n",
    "                                       'windstaerke_last1',\n",
    "                                       'windstaerke_last2',\n",
    "                                       'Lufttemperatur_last4',\n",
    "                                       'meanExpo',\n",
    "                                       'meanSlope',\n",
    "                                       'stdDevSlope',\n",
    "                                       'MinSlope',\n",
    "                                       'MaxSlope',\n",
    "                                       'Altitude',\n",
    "                                       'Avalanche']]\n",
    "features_selected_set"
   ],
   "metadata": {
    "collapsed": false,
    "pycharm": {
     "name": "#%%\n"
    }
   }
  },
  {
   "cell_type": "code",
   "execution_count": 71,
   "outputs": [],
   "source": [
    "X = features_selected_set[features_selected_set.columns.drop('Avalanche')]\n",
    "y = features_selected_set['Avalanche']\n",
    "\n",
    "clf = make_pipeline(StandardScaler(), LinearDiscriminantAnalysis())"
   ],
   "metadata": {
    "collapsed": false,
    "pycharm": {
     "name": "#%%\n"
    }
   }
  },
  {
   "cell_type": "code",
   "execution_count": 63,
   "outputs": [
    {
     "data": {
      "text/plain": "array([0.80085349, 0.69230769, 0.78205128, 0.69088319, 0.71367521,\n       0.72792023, 0.73931624, 0.71509972, 0.77207977, 0.69373219])"
     },
     "execution_count": 63,
     "metadata": {},
     "output_type": "execute_result"
    }
   ],
   "source": [
    "cvs = cross_val_score(clf, X, y, cv=10)\n",
    "cvs"
   ],
   "metadata": {
    "collapsed": false,
    "pycharm": {
     "name": "#%%\n"
    }
   }
  },
  {
   "cell_type": "code",
   "execution_count": 64,
   "outputs": [
    {
     "name": "stdout",
     "output_type": "stream",
     "text": [
      "0.7327919012129538\n"
     ]
    }
   ],
   "source": [
    "print(statistics.mean(cvs))"
   ],
   "metadata": {
    "collapsed": false,
    "pycharm": {
     "name": "#%%\n"
    }
   }
  },
  {
   "cell_type": "code",
   "execution_count": 65,
   "outputs": [
    {
     "data": {
      "text/plain": "array([0.825     , 0.61276596, 0.73966942, 0.604     , 0.70987654,\n       0.72674419, 0.70673077, 0.71875   , 0.7037037 , 0.58785942])"
     },
     "execution_count": 65,
     "metadata": {},
     "output_type": "execute_result"
    }
   ],
   "source": [
    "cvs = cross_val_score(clf, X, y, cv=10, scoring=\"precision\")\n",
    "cvs"
   ],
   "metadata": {
    "collapsed": false,
    "pycharm": {
     "name": "#%%\n"
    }
   }
  },
  {
   "cell_type": "code",
   "execution_count": 66,
   "outputs": [
    {
     "name": "stdout",
     "output_type": "stream",
     "text": [
      "0.69351000060454\n"
     ]
    }
   ],
   "source": [
    "print(statistics.mean(cvs))"
   ],
   "metadata": {
    "collapsed": false,
    "pycharm": {
     "name": "#%%\n"
    }
   }
  },
  {
   "cell_type": "code",
   "execution_count": 77,
   "outputs": [
    {
     "data": {
      "text/plain": "dict_keys(['explained_variance', 'r2', 'max_error', 'neg_median_absolute_error', 'neg_mean_absolute_error', 'neg_mean_absolute_percentage_error', 'neg_mean_squared_error', 'neg_mean_squared_log_error', 'neg_root_mean_squared_error', 'neg_mean_poisson_deviance', 'neg_mean_gamma_deviance', 'accuracy', 'top_k_accuracy', 'roc_auc', 'roc_auc_ovr', 'roc_auc_ovo', 'roc_auc_ovr_weighted', 'roc_auc_ovo_weighted', 'balanced_accuracy', 'average_precision', 'neg_log_loss', 'neg_brier_score', 'adjusted_rand_score', 'rand_score', 'homogeneity_score', 'completeness_score', 'v_measure_score', 'mutual_info_score', 'adjusted_mutual_info_score', 'normalized_mutual_info_score', 'fowlkes_mallows_score', 'precision', 'precision_macro', 'precision_micro', 'precision_samples', 'precision_weighted', 'recall', 'recall_macro', 'recall_micro', 'recall_samples', 'recall_weighted', 'f1', 'f1_macro', 'f1_micro', 'f1_samples', 'f1_weighted', 'jaccard', 'jaccard_macro', 'jaccard_micro', 'jaccard_samples', 'jaccard_weighted'])"
     },
     "execution_count": 77,
     "metadata": {},
     "output_type": "execute_result"
    }
   ],
   "source": [
    "from sklearn.metrics import SCORERS\n",
    "SCORERS.keys()"
   ],
   "metadata": {
    "collapsed": false,
    "pycharm": {
     "name": "#%%\n"
    }
   }
  },
  {
   "cell_type": "code",
   "execution_count": 78,
   "outputs": [
    {
     "data": {
      "text/plain": "{'fit_time': array([0.03479099, 0.018929  , 0.02843904, 0.01996422, 0.07992506,\n        0.01976705, 0.01753616, 0.01777792, 0.02269912, 0.01661801]),\n 'score_time': array([0.00156593, 0.00113606, 0.00127316, 0.00105906, 0.00109386,\n        0.0008769 , 0.00096989, 0.00086188, 0.00088787, 0.00089288]),\n 'test_recall': array([0.61111111, 0.53531599, 0.66542751, 0.56133829, 0.42750929,\n        0.46468401, 0.5464684 , 0.42592593, 0.7037037 , 0.68148148]),\n 'test_balanced_accuracy': array([0.76513985, 0.66257716, 0.75996549, 0.66635044, 0.65948213,\n        0.67806949, 0.7027954 , 0.66087963, 0.75925926, 0.69143519])}"
     },
     "execution_count": 78,
     "metadata": {},
     "output_type": "execute_result"
    }
   ],
   "source": [
    "cvs = cross_val_score(clf, X, y, cv=10, scoring='recall')\n",
    "cvs"
   ],
   "metadata": {
    "collapsed": false,
    "pycharm": {
     "name": "#%%\n"
    }
   }
  },
  {
   "cell_type": "code",
   "execution_count": 73,
   "outputs": [
    {
     "name": "stdout",
     "output_type": "stream",
     "text": [
      "0.5622965716646015\n"
     ]
    }
   ],
   "source": [
    "print(statistics.mean(cvs))"
   ],
   "metadata": {
    "collapsed": false,
    "pycharm": {
     "name": "#%%\n"
    }
   }
  },
  {
   "cell_type": "code",
   "execution_count": 79,
   "outputs": [
    {
     "data": {
      "text/plain": "array([0.76513985, 0.66257716, 0.75996549, 0.66635044, 0.65948213,\n       0.67806949, 0.7027954 , 0.66087963, 0.75925926, 0.69143519])"
     },
     "execution_count": 79,
     "metadata": {},
     "output_type": "execute_result"
    }
   ],
   "source": [
    "cvs = cross_val_score(clf, X, y, cv=10, scoring='balanced_accuracy')\n",
    "cvs"
   ],
   "metadata": {
    "collapsed": false,
    "pycharm": {
     "name": "#%%\n"
    }
   }
  },
  {
   "cell_type": "code",
   "execution_count": 80,
   "outputs": [
    {
     "name": "stdout",
     "output_type": "stream",
     "text": [
      "0.7005954032730671\n"
     ]
    }
   ],
   "source": [
    "print(statistics.mean(cvs))"
   ],
   "metadata": {
    "collapsed": false,
    "pycharm": {
     "name": "#%%\n"
    }
   }
  },
  {
   "cell_type": "code",
   "execution_count": 5,
   "outputs": [
    {
     "ename": "KeyboardInterrupt",
     "evalue": "",
     "output_type": "error",
     "traceback": [
      "\u001B[0;31m---------------------------------------------------------------------------\u001B[0m",
      "\u001B[0;31mKeyboardInterrupt\u001B[0m                         Traceback (most recent call last)",
      "\u001B[0;32m/var/folders/xc/49zm43dj0sdcz0pp9m82j7gh0000gn/T/ipykernel_68966/636816480.py\u001B[0m in \u001B[0;36m<module>\u001B[0;34m\u001B[0m\n\u001B[1;32m     80\u001B[0m \u001B[0mtprs_upper\u001B[0m \u001B[0;34m=\u001B[0m \u001B[0mnp\u001B[0m\u001B[0;34m.\u001B[0m\u001B[0mminimum\u001B[0m\u001B[0;34m(\u001B[0m\u001B[0mmean_tpr\u001B[0m \u001B[0;34m+\u001B[0m \u001B[0mstd_tpr\u001B[0m\u001B[0;34m,\u001B[0m \u001B[0;36m1\u001B[0m\u001B[0;34m)\u001B[0m\u001B[0;34m\u001B[0m\u001B[0;34m\u001B[0m\u001B[0m\n\u001B[1;32m     81\u001B[0m \u001B[0mtprs_lower\u001B[0m \u001B[0;34m=\u001B[0m \u001B[0mnp\u001B[0m\u001B[0;34m.\u001B[0m\u001B[0mmaximum\u001B[0m\u001B[0;34m(\u001B[0m\u001B[0mmean_tpr\u001B[0m \u001B[0;34m-\u001B[0m \u001B[0mstd_tpr\u001B[0m\u001B[0;34m,\u001B[0m \u001B[0;36m0\u001B[0m\u001B[0;34m)\u001B[0m\u001B[0;34m\u001B[0m\u001B[0;34m\u001B[0m\u001B[0m\n\u001B[0;32m---> 82\u001B[0;31m ax.fill_between(\n\u001B[0m\u001B[1;32m     83\u001B[0m     \u001B[0mmean_fpr\u001B[0m\u001B[0;34m,\u001B[0m\u001B[0;34m\u001B[0m\u001B[0;34m\u001B[0m\u001B[0m\n\u001B[1;32m     84\u001B[0m     \u001B[0mtprs_lower\u001B[0m\u001B[0;34m,\u001B[0m\u001B[0;34m\u001B[0m\u001B[0;34m\u001B[0m\u001B[0m\n",
      "\u001B[0;32m/var/folders/xc/49zm43dj0sdcz0pp9m82j7gh0000gn/T/ipykernel_68966/636816480.py\u001B[0m in \u001B[0;36m<module>\u001B[0;34m\u001B[0m\n\u001B[1;32m     80\u001B[0m \u001B[0mtprs_upper\u001B[0m \u001B[0;34m=\u001B[0m \u001B[0mnp\u001B[0m\u001B[0;34m.\u001B[0m\u001B[0mminimum\u001B[0m\u001B[0;34m(\u001B[0m\u001B[0mmean_tpr\u001B[0m \u001B[0;34m+\u001B[0m \u001B[0mstd_tpr\u001B[0m\u001B[0;34m,\u001B[0m \u001B[0;36m1\u001B[0m\u001B[0;34m)\u001B[0m\u001B[0;34m\u001B[0m\u001B[0;34m\u001B[0m\u001B[0m\n\u001B[1;32m     81\u001B[0m \u001B[0mtprs_lower\u001B[0m \u001B[0;34m=\u001B[0m \u001B[0mnp\u001B[0m\u001B[0;34m.\u001B[0m\u001B[0mmaximum\u001B[0m\u001B[0;34m(\u001B[0m\u001B[0mmean_tpr\u001B[0m \u001B[0;34m-\u001B[0m \u001B[0mstd_tpr\u001B[0m\u001B[0;34m,\u001B[0m \u001B[0;36m0\u001B[0m\u001B[0;34m)\u001B[0m\u001B[0;34m\u001B[0m\u001B[0;34m\u001B[0m\u001B[0m\n\u001B[0;32m---> 82\u001B[0;31m ax.fill_between(\n\u001B[0m\u001B[1;32m     83\u001B[0m     \u001B[0mmean_fpr\u001B[0m\u001B[0;34m,\u001B[0m\u001B[0;34m\u001B[0m\u001B[0;34m\u001B[0m\u001B[0m\n\u001B[1;32m     84\u001B[0m     \u001B[0mtprs_lower\u001B[0m\u001B[0;34m,\u001B[0m\u001B[0;34m\u001B[0m\u001B[0;34m\u001B[0m\u001B[0m\n",
      "\u001B[0;32m~/Library/Application Support/JetBrains/Toolbox/apps/DataSpell/ch-0/213.6461.76/DataSpell.app/Contents/plugins/python-ce/helpers/pydev/_pydevd_bundle/pydevd_frame.py\u001B[0m in \u001B[0;36mtrace_dispatch\u001B[0;34m(self, frame, event, arg)\u001B[0m\n\u001B[1;32m    878\u001B[0m \u001B[0;34m\u001B[0m\u001B[0m\n\u001B[1;32m    879\u001B[0m                 \u001B[0;32mif\u001B[0m \u001B[0mplugin_stop\u001B[0m\u001B[0;34m:\u001B[0m\u001B[0;34m\u001B[0m\u001B[0;34m\u001B[0m\u001B[0m\n\u001B[0;32m--> 880\u001B[0;31m                     \u001B[0mstopped_on_plugin\u001B[0m \u001B[0;34m=\u001B[0m \u001B[0mplugin_manager\u001B[0m\u001B[0;34m.\u001B[0m\u001B[0mstop\u001B[0m\u001B[0;34m(\u001B[0m\u001B[0mmain_debugger\u001B[0m\u001B[0;34m,\u001B[0m \u001B[0mframe\u001B[0m\u001B[0;34m,\u001B[0m \u001B[0mevent\u001B[0m\u001B[0;34m,\u001B[0m \u001B[0mself\u001B[0m\u001B[0;34m.\u001B[0m\u001B[0m_args\u001B[0m\u001B[0;34m,\u001B[0m \u001B[0mstop_info\u001B[0m\u001B[0;34m,\u001B[0m \u001B[0marg\u001B[0m\u001B[0;34m,\u001B[0m \u001B[0mstep_cmd\u001B[0m\u001B[0;34m)\u001B[0m\u001B[0;34m\u001B[0m\u001B[0;34m\u001B[0m\u001B[0m\n\u001B[0m\u001B[1;32m    881\u001B[0m                 \u001B[0;32melif\u001B[0m \u001B[0mstop\u001B[0m\u001B[0;34m:\u001B[0m\u001B[0;34m\u001B[0m\u001B[0;34m\u001B[0m\u001B[0m\n\u001B[1;32m    882\u001B[0m                     \u001B[0;32mif\u001B[0m \u001B[0mis_line\u001B[0m\u001B[0;34m:\u001B[0m\u001B[0;34m\u001B[0m\u001B[0;34m\u001B[0m\u001B[0m\n",
      "\u001B[0;32m~/Library/Application Support/JetBrains/Toolbox/apps/DataSpell/ch-0/213.6461.76/DataSpell.app/Contents/plugins/python-ce/helpers-pro/jupyter_debug/pydev_jupyter_plugin.py\u001B[0m in \u001B[0;36mstop\u001B[0;34m(plugin, pydb, frame, event, args, stop_info, arg, step_cmd)\u001B[0m\n\u001B[1;32m    163\u001B[0m         \u001B[0mframe\u001B[0m \u001B[0;34m=\u001B[0m \u001B[0msuspend_jupyter\u001B[0m\u001B[0;34m(\u001B[0m\u001B[0mmain_debugger\u001B[0m\u001B[0;34m,\u001B[0m \u001B[0mthread\u001B[0m\u001B[0;34m,\u001B[0m \u001B[0mframe\u001B[0m\u001B[0;34m,\u001B[0m \u001B[0mstep_cmd\u001B[0m\u001B[0;34m)\u001B[0m\u001B[0;34m\u001B[0m\u001B[0;34m\u001B[0m\u001B[0m\n\u001B[1;32m    164\u001B[0m         \u001B[0;32mif\u001B[0m \u001B[0mframe\u001B[0m\u001B[0;34m:\u001B[0m\u001B[0;34m\u001B[0m\u001B[0;34m\u001B[0m\u001B[0m\n\u001B[0;32m--> 165\u001B[0;31m             \u001B[0mmain_debugger\u001B[0m\u001B[0;34m.\u001B[0m\u001B[0mdo_wait_suspend\u001B[0m\u001B[0;34m(\u001B[0m\u001B[0mthread\u001B[0m\u001B[0;34m,\u001B[0m \u001B[0mframe\u001B[0m\u001B[0;34m,\u001B[0m \u001B[0mevent\u001B[0m\u001B[0;34m,\u001B[0m \u001B[0marg\u001B[0m\u001B[0;34m)\u001B[0m\u001B[0;34m\u001B[0m\u001B[0;34m\u001B[0m\u001B[0m\n\u001B[0m\u001B[1;32m    166\u001B[0m             \u001B[0;32mreturn\u001B[0m \u001B[0;32mTrue\u001B[0m\u001B[0;34m\u001B[0m\u001B[0;34m\u001B[0m\u001B[0m\n\u001B[1;32m    167\u001B[0m     \u001B[0;32mreturn\u001B[0m \u001B[0;32mFalse\u001B[0m\u001B[0;34m\u001B[0m\u001B[0;34m\u001B[0m\u001B[0m\n",
      "\u001B[0;32m~/Library/Application Support/JetBrains/Toolbox/apps/DataSpell/ch-0/213.6461.76/DataSpell.app/Contents/plugins/python-ce/helpers/pydev/pydevd.py\u001B[0m in \u001B[0;36mdo_wait_suspend\u001B[0;34m(self, thread, frame, event, arg, send_suspend_message, is_unhandled_exception)\u001B[0m\n\u001B[1;32m   1145\u001B[0m \u001B[0;34m\u001B[0m\u001B[0m\n\u001B[1;32m   1146\u001B[0m         \u001B[0;32mwith\u001B[0m \u001B[0mself\u001B[0m\u001B[0;34m.\u001B[0m\u001B[0m_threads_suspended_single_notification\u001B[0m\u001B[0;34m.\u001B[0m\u001B[0mnotify_thread_suspended\u001B[0m\u001B[0;34m(\u001B[0m\u001B[0mthread_id\u001B[0m\u001B[0;34m,\u001B[0m \u001B[0mstop_reason\u001B[0m\u001B[0;34m)\u001B[0m\u001B[0;34m:\u001B[0m\u001B[0;34m\u001B[0m\u001B[0;34m\u001B[0m\u001B[0m\n\u001B[0;32m-> 1147\u001B[0;31m             \u001B[0mself\u001B[0m\u001B[0;34m.\u001B[0m\u001B[0m_do_wait_suspend\u001B[0m\u001B[0;34m(\u001B[0m\u001B[0mthread\u001B[0m\u001B[0;34m,\u001B[0m \u001B[0mframe\u001B[0m\u001B[0;34m,\u001B[0m \u001B[0mevent\u001B[0m\u001B[0;34m,\u001B[0m \u001B[0marg\u001B[0m\u001B[0;34m,\u001B[0m \u001B[0msuspend_type\u001B[0m\u001B[0;34m,\u001B[0m \u001B[0mfrom_this_thread\u001B[0m\u001B[0;34m)\u001B[0m\u001B[0;34m\u001B[0m\u001B[0;34m\u001B[0m\u001B[0m\n\u001B[0m\u001B[1;32m   1148\u001B[0m \u001B[0;34m\u001B[0m\u001B[0m\n\u001B[1;32m   1149\u001B[0m     \u001B[0;32mdef\u001B[0m \u001B[0m_do_wait_suspend\u001B[0m\u001B[0;34m(\u001B[0m\u001B[0mself\u001B[0m\u001B[0;34m,\u001B[0m \u001B[0mthread\u001B[0m\u001B[0;34m,\u001B[0m \u001B[0mframe\u001B[0m\u001B[0;34m,\u001B[0m \u001B[0mevent\u001B[0m\u001B[0;34m,\u001B[0m \u001B[0marg\u001B[0m\u001B[0;34m,\u001B[0m \u001B[0msuspend_type\u001B[0m\u001B[0;34m,\u001B[0m \u001B[0mfrom_this_thread\u001B[0m\u001B[0;34m)\u001B[0m\u001B[0;34m:\u001B[0m\u001B[0;34m\u001B[0m\u001B[0;34m\u001B[0m\u001B[0m\n",
      "\u001B[0;32m~/Library/Application Support/JetBrains/Toolbox/apps/DataSpell/ch-0/213.6461.76/DataSpell.app/Contents/plugins/python-ce/helpers/pydev/pydevd.py\u001B[0m in \u001B[0;36m_do_wait_suspend\u001B[0;34m(self, thread, frame, event, arg, suspend_type, from_this_thread)\u001B[0m\n\u001B[1;32m   1160\u001B[0m \u001B[0;34m\u001B[0m\u001B[0m\n\u001B[1;32m   1161\u001B[0m                 \u001B[0mself\u001B[0m\u001B[0;34m.\u001B[0m\u001B[0mprocess_internal_commands\u001B[0m\u001B[0;34m(\u001B[0m\u001B[0;34m)\u001B[0m\u001B[0;34m\u001B[0m\u001B[0;34m\u001B[0m\u001B[0m\n\u001B[0;32m-> 1162\u001B[0;31m                 \u001B[0mtime\u001B[0m\u001B[0;34m.\u001B[0m\u001B[0msleep\u001B[0m\u001B[0;34m(\u001B[0m\u001B[0;36m0.01\u001B[0m\u001B[0;34m)\u001B[0m\u001B[0;34m\u001B[0m\u001B[0;34m\u001B[0m\u001B[0m\n\u001B[0m\u001B[1;32m   1163\u001B[0m \u001B[0;34m\u001B[0m\u001B[0m\n\u001B[1;32m   1164\u001B[0m         \u001B[0mself\u001B[0m\u001B[0;34m.\u001B[0m\u001B[0mcancel_async_evaluation\u001B[0m\u001B[0;34m(\u001B[0m\u001B[0mget_current_thread_id\u001B[0m\u001B[0;34m(\u001B[0m\u001B[0mthread\u001B[0m\u001B[0;34m)\u001B[0m\u001B[0;34m,\u001B[0m \u001B[0mstr\u001B[0m\u001B[0;34m(\u001B[0m\u001B[0mid\u001B[0m\u001B[0;34m(\u001B[0m\u001B[0mframe\u001B[0m\u001B[0;34m)\u001B[0m\u001B[0;34m)\u001B[0m\u001B[0;34m)\u001B[0m\u001B[0;34m\u001B[0m\u001B[0;34m\u001B[0m\u001B[0m\n",
      "\u001B[0;31mKeyboardInterrupt\u001B[0m: "
     ]
    },
    {
     "data": {
      "text/plain": "<Figure size 720x720 with 1 Axes>",
      "image/png": "[encoded data removed]"
     },
     "metadata": {
      "needs_background": "light"
     },
     "output_type": "display_data"
    }
   ],
   "source": [
    "import numpy as np\n",
    "import matplotlib.pyplot as plt\n",
    "from sklearn.discriminant_analysis import LinearDiscriminantAnalysis\n",
    "from sklearn.preprocessing import StandardScaler\n",
    "from sklearn.metrics import auc\n",
    "from sklearn.metrics import RocCurveDisplay\n",
    "from sklearn.model_selection import StratifiedKFold\n",
    "\n",
    "\n",
    "features_selected_set = avalanche_set[['Schneehöhe',\n",
    "                                       'Niederschlag',\n",
    "                                       'Lufttemperatur_7h',\n",
    "                                       'Lufttemperatur_7h_Gew',\n",
    "                                       'Lufttemperatur_14h_Norm',\n",
    "                                       'Lufttemperatur_14h_Gew',\n",
    "                                       'Lufttemperatur_19h',\n",
    "                                       'Schneetemperatur',\n",
    "                                       'Windrichtung_Gew',\n",
    "                                       'Windstärke_Norm',\n",
    "                                       'Einsinktiefe_Norm',\n",
    "                                       'Wetter_akt',\n",
    "                                       'Neuschnee_Norm',\n",
    "                                       'Neuschnee_last4',\n",
    "                                       'Neuschnee_last2',\n",
    "                                       'windstaerke_last1',\n",
    "                                       'windstaerke_last2',\n",
    "                                       'Lufttemperatur_last4',\n",
    "                                       'meanExpo',\n",
    "                                       'meanSlope',\n",
    "                                       'stdDevSlope',\n",
    "                                       'MinSlope',\n",
    "                                       'MaxSlope',\n",
    "                                       'Altitude',\n",
    "                                       'Avalanche']]\n",
    "X = features_selected_set[features_selected_set.columns.drop('Avalanche')]\n",
    "y = features_selected_set['Avalanche']\n",
    "X = StandardScaler().fit_transform(X,y)\n",
    "\n",
    "\n",
    "cv = StratifiedKFold(n_splits=10)\n",
    "classifier = LinearDiscriminantAnalysis()\n",
    "\n",
    "tprs = []\n",
    "aucs = []\n",
    "mean_fpr = np.linspace(0, 1, 100)\n",
    "\n",
    "fig, ax = plt.subplots(figsize=(10, 10))\n",
    "for i, (train, test) in enumerate(cv.split(X, y)):\n",
    "    classifier.fit(X[train], y[train])\n",
    "    viz = RocCurveDisplay.from_estimator(\n",
    "        classifier,\n",
    "        X[test],\n",
    "        y[test],\n",
    "        name=\"ROC fold {}\".format(i),\n",
    "        alpha=0.3,\n",
    "        lw=1,\n",
    "        ax=ax,\n",
    "    )\n",
    "    interp_tpr = np.interp(mean_fpr, viz.fpr, viz.tpr)\n",
    "    interp_tpr[0] = 0.0\n",
    "    tprs.append(interp_tpr)\n",
    "    aucs.append(viz.roc_auc)\n",
    "\n",
    "ax.plot([0, 1], [0, 1], linestyle=\"--\", lw=2, color=\"r\", label=\"Chance\", alpha=0.8)\n",
    "\n",
    "mean_tpr = np.mean(tprs, axis=0)\n",
    "mean_tpr[-1] = 1.0\n",
    "mean_auc = auc(mean_fpr, mean_tpr)\n",
    "std_auc = np.std(aucs)\n",
    "ax.plot(\n",
    "    mean_fpr,\n",
    "    mean_tpr,\n",
    "    color=\"b\",\n",
    "    label=r\"Mean ROC (AUC = %0.2f $\\pm$ %0.2f)\" % (mean_auc, std_auc),\n",
    "    lw=2,\n",
    "    alpha=0.8,\n",
    ")\n",
    "\n",
    "std_tpr = np.std(tprs, axis=0)\n",
    "tprs_upper = np.minimum(mean_tpr + std_tpr, 1)\n",
    "tprs_lower = np.maximum(mean_tpr - std_tpr, 0)\n",
    "ax.fill_between(\n",
    "    mean_fpr,\n",
    "    tprs_lower,\n",
    "    tprs_upper,\n",
    "    color=\"grey\",\n",
    "    alpha=0.2,\n",
    "    label=r\"$\\pm$ 1 std. dev.\",\n",
    ")\n",
    "\n",
    "ax.set(\n",
    "    xlim=[-0.05, 1.05],\n",
    "    ylim=[-0.05, 1.05],\n",
    "    title=\"Receiver operating characteristic example\",\n",
    ")\n",
    "plt.figure(figsize=(100, 100))\n",
    "ax.legend(loc=\"lower right\")\n",
    "plt.show()"
   ],
   "metadata": {
    "collapsed": false,
    "pycharm": {
     "name": "#%%\n"
    }
   }
  },
  {
   "cell_type": "code",
   "execution_count": 74,
   "outputs": [
    {
     "data": {
      "text/plain": "<Figure size 720x720 with 2 Axes>",
      "image/png": "[encoded data removed]"
     },
     "metadata": {
      "needs_background": "light"
     },
     "output_type": "display_data"
    }
   ],
   "source": [
    "from sklearn.metrics import ConfusionMatrixDisplay\n",
    "from sklearn.discriminant_analysis import LinearDiscriminantAnalysis\n",
    "from sklearn.preprocessing import StandardScaler\n",
    "from sklearn.model_selection import train_test_split\n",
    "\n",
    "features_selected_set = avalanche_set[['Schneehöhe',\n",
    "                                       'Niederschlag',\n",
    "                                       'Lufttemperatur_7h',\n",
    "                                       'Lufttemperatur_7h_Gew',\n",
    "                                       'Lufttemperatur_14h_Norm',\n",
    "                                       'Lufttemperatur_14h_Gew',\n",
    "                                       'Lufttemperatur_19h',\n",
    "                                       'Schneetemperatur',\n",
    "                                       'Windrichtung_Gew',\n",
    "                                       'Windstärke_Norm',\n",
    "                                       'Einsinktiefe_Norm',\n",
    "                                       'Wetter_akt',\n",
    "                                       'Neuschnee_Norm',\n",
    "                                       'Neuschnee_last4',\n",
    "                                       'Neuschnee_last2',\n",
    "                                       'windstaerke_last1',\n",
    "                                       'windstaerke_last2',\n",
    "                                       'Lufttemperatur_last4',\n",
    "                                       'meanExpo',\n",
    "                                       'meanSlope',\n",
    "                                       'stdDevSlope',\n",
    "                                       'MinSlope',\n",
    "                                       'MaxSlope',\n",
    "                                       'Altitude',\n",
    "                                       'Avalanche']]\n",
    "X = features_selected_set[features_selected_set.columns.drop('Avalanche')]\n",
    "y = features_selected_set['Avalanche']\n",
    "X = StandardScaler().fit_transform(X,y)\n",
    "X_train, X_test, y_train, y_test = train_test_split(X, y, random_state=0, )\n",
    "lda = LinearDiscriminantAnalysis().fit(X_train, y_train)\n",
    "\n",
    "fig, ax = plt.subplots(figsize=(10, 10))\n",
    "\n",
    "ConfusionMatrixDisplay.from_estimator(estimator=lda,\n",
    "                      X=X_test,\n",
    "                      y=y_test,\n",
    "                      display_labels=[\"Non-avalanche\", \"Avalanche\"],\n",
    "                                      ax=ax)\n",
    "plt.show()"
   ],
   "metadata": {
    "collapsed": false,
    "pycharm": {
     "name": "#%%\n"
    }
   }
  }
 ],
 "metadata": {
  "kernelspec": {
   "display_name": "Python 3",
   "language": "python",
   "name": "python3"
  },
  "language_info": {
   "codemirror_mode": {
    "name": "ipython",
    "version": 2
   },
   "file_extension": ".py",
   "mimetype": "text/x-python",
   "name": "python",
   "nbconvert_exporter": "python",
   "pygments_lexer": "ipython2",
   "version": "2.7.6"
  }
 },
 "nbformat": 4,
 "nbformat_minor": 0
}