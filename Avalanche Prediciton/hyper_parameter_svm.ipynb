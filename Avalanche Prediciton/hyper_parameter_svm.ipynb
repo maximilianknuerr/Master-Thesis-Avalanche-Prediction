{
 "cells": [
  {
   "cell_type": "code",
   "execution_count": 61,
   "metadata": {
    "collapsed": true
   },
   "outputs": [
    {
     "data": {
      "text/plain": "      Schneehöhe  Schneehöhe_Norm  Niederschlag  Lufttemperatur_7h  \\\n0           20.0        29.371271           0.0               -1.4   \n1           19.0        26.654976           0.0                3.9   \n2           19.0        27.313567           9.1                7.6   \n3            4.0         5.611574           5.3               -6.0   \n4           10.0        13.894920           7.3               -5.1   \n...          ...              ...           ...                ...   \n7016       175.0       162.359178          16.0               -9.0   \n7017       155.0       141.483293           8.0                4.0   \n7018       149.0       134.537246           0.0               -1.0   \n7019       144.0       129.792371           0.0               -2.0   \n7020       149.0       132.381406           7.0              -14.0   \n\n      Lufttemperatur_7h_Norm  Lufttemperatur_7h_Gew  Lufttemperatur_14h  \\\n0                      -11.2                99999.0                 2.6   \n1                       31.2                   -5.6                 3.5   \n2                       60.8                   15.6                 4.7   \n3                      -48.0                   30.4                -7.6   \n4                      -40.8                  -24.0                -4.2   \n...                      ...                    ...                 ...   \n7016                   -72.0                  -36.0                -1.0   \n7017                    32.0                  -36.0                 8.0   \n7018                    -8.0                   16.0                 1.0   \n7019                   -16.0                   -4.0                -6.0   \n7020                  -112.0                   -8.0                 0.0   \n\n      Lufttemperatur_14h_Norm  Lufttemperatur_14h_Gew  Lufttemperatur_19h  \\\n0                        20.8                 99999.0                 4.6   \n1                        28.0                    10.4                 3.2   \n2                        37.6                    14.0                 2.7   \n3                       -60.8                    18.8                -4.4   \n4                       -33.6                   -30.4                -2.7   \n...                       ...                     ...                 ...   \n7016                     -8.0                   -40.0                -1.0   \n7017                     64.0                    -4.0                 5.0   \n7018                      8.0                    32.0                -1.0   \n7019                    -48.0                     4.0               -10.0   \n7020                      0.0                   -24.0                 0.0   \n\n      ...  Lufttemperatur_last2  Lufttemperatur_last3  Lufttemperatur_last4  \\\n0     ...              0.000000              0.000000              0.000000   \n1     ...              0.000000              0.000000              0.000000   \n2     ...             15.466667              0.000000              0.000000   \n3     ...             28.266667             15.466667              0.000000   \n4     ...             40.000000             28.266667             15.466667   \n...   ...                   ...                   ...                   ...   \n7016  ...            -40.000000            -10.666667              2.666667   \n7017  ...            -80.000000            -40.000000            -10.666667   \n7018  ...            -29.333333            -80.000000            -40.000000   \n7019  ...             45.333333            -29.333333            -80.000000   \n7020  ...             -2.666667             45.333333            -29.333333   \n\n        meanExpo  meanSlope  stdDevSlope   MinSlope   MaxSlope     Altitude  \\\n0     307.979147  42.438500     7.317475  23.819850  70.167150  2256.036450   \n1     281.076869  43.656950     4.415100  32.175950  52.052100  1944.962150   \n2     232.719192  37.897100     6.448350  12.266050  59.394250  2155.532950   \n3     240.622592  40.215386     6.827700   3.598443  60.656714  2925.378871   \n4     291.294103  42.673879     7.093168  13.117353  57.314842  2206.059189   \n...          ...        ...          ...        ...        ...          ...   \n7016   62.004911  41.474100     8.876500   1.418093  65.950220  2223.063053   \n7017   68.013048  34.367700     3.891300  19.264000  41.614200  1879.884500   \n7018  281.076869  43.656950     4.415100  32.175950  52.052100  1944.962150   \n7019   82.521374  39.486485     8.214154  14.862285  71.692138  1822.645769   \n7020   68.013048  34.367700     3.891300  19.264000  41.614200  1879.884500   \n\n      Avalanche  \n0             0  \n1             0  \n2             0  \n3             0  \n4             0  \n...         ...  \n7016          1  \n7017          0  \n7018          0  \n7019          0  \n7020          0  \n\n[7021 rows x 48 columns]",
      "text/html": "<div>\n<style scoped>\n    .dataframe tbody tr th:only-of-type {\n        vertical-align: middle;\n    }\n\n    .dataframe tbody tr th {\n        vertical-align: top;\n    }\n\n    .dataframe thead th {\n        text-align: right;\n    }\n</style>\n<table border=\"1\" class=\"dataframe\">\n  <thead>\n    <tr style=\"text-align: right;\">\n      <th></th>\n      <th>Schneehöhe</th>\n      <th>Schneehöhe_Norm</th>\n      <th>Niederschlag</th>\n      <th>Lufttemperatur_7h</th>\n      <th>Lufttemperatur_7h_Norm</th>\n      <th>Lufttemperatur_7h_Gew</th>\n      <th>Lufttemperatur_14h</th>\n      <th>Lufttemperatur_14h_Norm</th>\n      <th>Lufttemperatur_14h_Gew</th>\n      <th>Lufttemperatur_19h</th>\n      <th>...</th>\n      <th>Lufttemperatur_last2</th>\n      <th>Lufttemperatur_last3</th>\n      <th>Lufttemperatur_last4</th>\n      <th>meanExpo</th>\n      <th>meanSlope</th>\n      <th>stdDevSlope</th>\n      <th>MinSlope</th>\n      <th>MaxSlope</th>\n      <th>Altitude</th>\n      <th>Avalanche</th>\n    </tr>\n  </thead>\n  <tbody>\n    <tr>\n      <th>0</th>\n      <td>20.0</td>\n      <td>29.371271</td>\n      <td>0.0</td>\n      <td>-1.4</td>\n      <td>-11.2</td>\n      <td>99999.0</td>\n      <td>2.6</td>\n      <td>20.8</td>\n      <td>99999.0</td>\n      <td>4.6</td>\n      <td>...</td>\n      <td>0.000000</td>\n      <td>0.000000</td>\n      <td>0.000000</td>\n      <td>307.979147</td>\n      <td>42.438500</td>\n      <td>7.317475</td>\n      <td>23.819850</td>\n      <td>70.167150</td>\n      <td>2256.036450</td>\n      <td>0</td>\n    </tr>\n    <tr>\n      <th>1</th>\n      <td>19.0</td>\n      <td>26.654976</td>\n      <td>0.0</td>\n      <td>3.9</td>\n      <td>31.2</td>\n      <td>-5.6</td>\n      <td>3.5</td>\n      <td>28.0</td>\n      <td>10.4</td>\n      <td>3.2</td>\n      <td>...</td>\n      <td>0.000000</td>\n      <td>0.000000</td>\n      <td>0.000000</td>\n      <td>281.076869</td>\n      <td>43.656950</td>\n      <td>4.415100</td>\n      <td>32.175950</td>\n      <td>52.052100</td>\n      <td>1944.962150</td>\n      <td>0</td>\n    </tr>\n    <tr>\n      <th>2</th>\n      <td>19.0</td>\n      <td>27.313567</td>\n      <td>9.1</td>\n      <td>7.6</td>\n      <td>60.8</td>\n      <td>15.6</td>\n      <td>4.7</td>\n      <td>37.6</td>\n      <td>14.0</td>\n      <td>2.7</td>\n      <td>...</td>\n      <td>15.466667</td>\n      <td>0.000000</td>\n      <td>0.000000</td>\n      <td>232.719192</td>\n      <td>37.897100</td>\n      <td>6.448350</td>\n      <td>12.266050</td>\n      <td>59.394250</td>\n      <td>2155.532950</td>\n      <td>0</td>\n    </tr>\n    <tr>\n      <th>3</th>\n      <td>4.0</td>\n      <td>5.611574</td>\n      <td>5.3</td>\n      <td>-6.0</td>\n      <td>-48.0</td>\n      <td>30.4</td>\n      <td>-7.6</td>\n      <td>-60.8</td>\n      <td>18.8</td>\n      <td>-4.4</td>\n      <td>...</td>\n      <td>28.266667</td>\n      <td>15.466667</td>\n      <td>0.000000</td>\n      <td>240.622592</td>\n      <td>40.215386</td>\n      <td>6.827700</td>\n      <td>3.598443</td>\n      <td>60.656714</td>\n      <td>2925.378871</td>\n      <td>0</td>\n    </tr>\n    <tr>\n      <th>4</th>\n      <td>10.0</td>\n      <td>13.894920</td>\n      <td>7.3</td>\n      <td>-5.1</td>\n      <td>-40.8</td>\n      <td>-24.0</td>\n      <td>-4.2</td>\n      <td>-33.6</td>\n      <td>-30.4</td>\n      <td>-2.7</td>\n      <td>...</td>\n      <td>40.000000</td>\n      <td>28.266667</td>\n      <td>15.466667</td>\n      <td>291.294103</td>\n      <td>42.673879</td>\n      <td>7.093168</td>\n      <td>13.117353</td>\n      <td>57.314842</td>\n      <td>2206.059189</td>\n      <td>0</td>\n    </tr>\n    <tr>\n      <th>...</th>\n      <td>...</td>\n      <td>...</td>\n      <td>...</td>\n      <td>...</td>\n      <td>...</td>\n      <td>...</td>\n      <td>...</td>\n      <td>...</td>\n      <td>...</td>\n      <td>...</td>\n      <td>...</td>\n      <td>...</td>\n      <td>...</td>\n      <td>...</td>\n      <td>...</td>\n      <td>...</td>\n      <td>...</td>\n      <td>...</td>\n      <td>...</td>\n      <td>...</td>\n      <td>...</td>\n    </tr>\n    <tr>\n      <th>7016</th>\n      <td>175.0</td>\n      <td>162.359178</td>\n      <td>16.0</td>\n      <td>-9.0</td>\n      <td>-72.0</td>\n      <td>-36.0</td>\n      <td>-1.0</td>\n      <td>-8.0</td>\n      <td>-40.0</td>\n      <td>-1.0</td>\n      <td>...</td>\n      <td>-40.000000</td>\n      <td>-10.666667</td>\n      <td>2.666667</td>\n      <td>62.004911</td>\n      <td>41.474100</td>\n      <td>8.876500</td>\n      <td>1.418093</td>\n      <td>65.950220</td>\n      <td>2223.063053</td>\n      <td>1</td>\n    </tr>\n    <tr>\n      <th>7017</th>\n      <td>155.0</td>\n      <td>141.483293</td>\n      <td>8.0</td>\n      <td>4.0</td>\n      <td>32.0</td>\n      <td>-36.0</td>\n      <td>8.0</td>\n      <td>64.0</td>\n      <td>-4.0</td>\n      <td>5.0</td>\n      <td>...</td>\n      <td>-80.000000</td>\n      <td>-40.000000</td>\n      <td>-10.666667</td>\n      <td>68.013048</td>\n      <td>34.367700</td>\n      <td>3.891300</td>\n      <td>19.264000</td>\n      <td>41.614200</td>\n      <td>1879.884500</td>\n      <td>0</td>\n    </tr>\n    <tr>\n      <th>7018</th>\n      <td>149.0</td>\n      <td>134.537246</td>\n      <td>0.0</td>\n      <td>-1.0</td>\n      <td>-8.0</td>\n      <td>16.0</td>\n      <td>1.0</td>\n      <td>8.0</td>\n      <td>32.0</td>\n      <td>-1.0</td>\n      <td>...</td>\n      <td>-29.333333</td>\n      <td>-80.000000</td>\n      <td>-40.000000</td>\n      <td>281.076869</td>\n      <td>43.656950</td>\n      <td>4.415100</td>\n      <td>32.175950</td>\n      <td>52.052100</td>\n      <td>1944.962150</td>\n      <td>0</td>\n    </tr>\n    <tr>\n      <th>7019</th>\n      <td>144.0</td>\n      <td>129.792371</td>\n      <td>0.0</td>\n      <td>-2.0</td>\n      <td>-16.0</td>\n      <td>-4.0</td>\n      <td>-6.0</td>\n      <td>-48.0</td>\n      <td>4.0</td>\n      <td>-10.0</td>\n      <td>...</td>\n      <td>45.333333</td>\n      <td>-29.333333</td>\n      <td>-80.000000</td>\n      <td>82.521374</td>\n      <td>39.486485</td>\n      <td>8.214154</td>\n      <td>14.862285</td>\n      <td>71.692138</td>\n      <td>1822.645769</td>\n      <td>0</td>\n    </tr>\n    <tr>\n      <th>7020</th>\n      <td>149.0</td>\n      <td>132.381406</td>\n      <td>7.0</td>\n      <td>-14.0</td>\n      <td>-112.0</td>\n      <td>-8.0</td>\n      <td>0.0</td>\n      <td>0.0</td>\n      <td>-24.0</td>\n      <td>0.0</td>\n      <td>...</td>\n      <td>-2.666667</td>\n      <td>45.333333</td>\n      <td>-29.333333</td>\n      <td>68.013048</td>\n      <td>34.367700</td>\n      <td>3.891300</td>\n      <td>19.264000</td>\n      <td>41.614200</td>\n      <td>1879.884500</td>\n      <td>0</td>\n    </tr>\n  </tbody>\n</table>\n<p>7021 rows × 48 columns</p>\n</div>"
     },
     "execution_count": 61,
     "metadata": {},
     "output_type": "execute_result"
    }
   ],
   "source": [
    "import pandas as pd\n",
    "\n",
    "avalanche_set = pd.read_csv('newData/gesamt_set_1.csv', sep=',')\n",
    "avalanche_set['ID'] = avalanche_set['ID'].fillna(0)\n",
    "avalanche_set = avalanche_set.drop(['Datum', 'Intervall', 'ID'], axis=1)\n",
    "avalanche_set = avalanche_set.dropna()\n",
    "avalanche_set"
   ]
  },
  {
   "cell_type": "code",
   "execution_count": 62,
   "outputs": [
    {
     "data": {
      "text/plain": "      Schneehöhe  Lufttemperatur_7h  Lufttemperatur_14h_Norm  \\\n0           20.0               -1.4                     20.8   \n1           19.0                3.9                     28.0   \n2           19.0                7.6                     37.6   \n3            4.0               -6.0                    -60.8   \n4           10.0               -5.1                    -33.6   \n...          ...                ...                      ...   \n7016       175.0               -9.0                     -8.0   \n7017       155.0                4.0                     64.0   \n7018       149.0               -1.0                      8.0   \n7019       144.0               -2.0                    -48.0   \n7020       149.0              -14.0                      0.0   \n\n      Lufttemperatur_14h_Gew  Lufttemperatur_19h  Lufttemperatur_19h_Norm  \\\n0                    99999.0                 4.6                     36.8   \n1                       10.4                 3.2                     25.6   \n2                       14.0                 2.7                     21.6   \n3                       18.8                -4.4                    -35.2   \n4                      -30.4                -2.7                    -21.6   \n...                      ...                 ...                      ...   \n7016                   -40.0                -1.0                     -8.0   \n7017                    -4.0                 5.0                     40.0   \n7018                    32.0                -1.0                     -8.0   \n7019                     4.0               -10.0                    -80.0   \n7020                   -24.0                 0.0                      0.0   \n\n      Lufttemperatur_19h_Gew  Schneetemperatur  Schneetemperatur_Norm  \\\n0                    99999.0               0.0                    0.0   \n1                       18.4               0.0                    0.0   \n2                       12.8               0.0                    0.0   \n3                       10.8               0.0                    0.0   \n4                      -17.6               0.0                    0.0   \n...                      ...               ...                    ...   \n7016                   -44.0             -11.0                 -110.0   \n7017                    -4.0              -6.0                  -60.0   \n7018                    20.0             -16.0                 -160.0   \n7019                    -4.0              -7.0                  -70.0   \n7020                   -40.0             -20.0                 -200.0   \n\n      Schneetemperatur_Gew  ...  Neuschnee_x  Neuschnee_Norm  Neuschnee_last4  \\\n0                  99999.0  ...         20.0           200.0              0.0   \n1                      0.0  ...          0.0             0.0            200.0   \n2                      0.0  ...          0.0             0.0            200.0   \n3                      0.0  ...          2.0            20.0            200.0   \n4                      0.0  ...         10.0           100.0            220.0   \n...                    ...  ...          ...             ...              ...   \n7016                 -50.0  ...         21.0           210.0            100.0   \n7017                 -55.0  ...          0.0             0.0            310.0   \n7018                 -30.0  ...          0.0             0.0            310.0   \n7019                 -80.0  ...          0.0             0.0            310.0   \n7020                 -35.0  ...         10.0           100.0            210.0   \n\n      Lufttemperatur_last4    meanExpo  meanSlope   MinSlope   MaxSlope  \\\n0                 0.000000  307.979147  42.438500  23.819850  70.167150   \n1                 0.000000  281.076869  43.656950  32.175950  52.052100   \n2                 0.000000  232.719192  37.897100  12.266050  59.394250   \n3                 0.000000  240.622592  40.215386   3.598443  60.656714   \n4                15.466667  291.294103  42.673879  13.117353  57.314842   \n...                    ...         ...        ...        ...        ...   \n7016              2.666667   62.004911  41.474100   1.418093  65.950220   \n7017            -10.666667   68.013048  34.367700  19.264000  41.614200   \n7018            -40.000000  281.076869  43.656950  32.175950  52.052100   \n7019            -80.000000   82.521374  39.486485  14.862285  71.692138   \n7020            -29.333333   68.013048  34.367700  19.264000  41.614200   \n\n         Altitude  Avalanche  \n0     2256.036450          0  \n1     1944.962150          0  \n2     2155.532950          0  \n3     2925.378871          0  \n4     2206.059189          0  \n...           ...        ...  \n7016  2223.063053          1  \n7017  1879.884500          0  \n7018  1944.962150          0  \n7019  1822.645769          0  \n7020  1879.884500          0  \n\n[7021 rows x 26 columns]",
      "text/html": "<div>\n<style scoped>\n    .dataframe tbody tr th:only-of-type {\n        vertical-align: middle;\n    }\n\n    .dataframe tbody tr th {\n        vertical-align: top;\n    }\n\n    .dataframe thead th {\n        text-align: right;\n    }\n</style>\n<table border=\"1\" class=\"dataframe\">\n  <thead>\n    <tr style=\"text-align: right;\">\n      <th></th>\n      <th>Schneehöhe</th>\n      <th>Lufttemperatur_7h</th>\n      <th>Lufttemperatur_14h_Norm</th>\n      <th>Lufttemperatur_14h_Gew</th>\n      <th>Lufttemperatur_19h</th>\n      <th>Lufttemperatur_19h_Norm</th>\n      <th>Lufttemperatur_19h_Gew</th>\n      <th>Schneetemperatur</th>\n      <th>Schneetemperatur_Norm</th>\n      <th>Schneetemperatur_Gew</th>\n      <th>...</th>\n      <th>Neuschnee_x</th>\n      <th>Neuschnee_Norm</th>\n      <th>Neuschnee_last4</th>\n      <th>Lufttemperatur_last4</th>\n      <th>meanExpo</th>\n      <th>meanSlope</th>\n      <th>MinSlope</th>\n      <th>MaxSlope</th>\n      <th>Altitude</th>\n      <th>Avalanche</th>\n    </tr>\n  </thead>\n  <tbody>\n    <tr>\n      <th>0</th>\n      <td>20.0</td>\n      <td>-1.4</td>\n      <td>20.8</td>\n      <td>99999.0</td>\n      <td>4.6</td>\n      <td>36.8</td>\n      <td>99999.0</td>\n      <td>0.0</td>\n      <td>0.0</td>\n      <td>99999.0</td>\n      <td>...</td>\n      <td>20.0</td>\n      <td>200.0</td>\n      <td>0.0</td>\n      <td>0.000000</td>\n      <td>307.979147</td>\n      <td>42.438500</td>\n      <td>23.819850</td>\n      <td>70.167150</td>\n      <td>2256.036450</td>\n      <td>0</td>\n    </tr>\n    <tr>\n      <th>1</th>\n      <td>19.0</td>\n      <td>3.9</td>\n      <td>28.0</td>\n      <td>10.4</td>\n      <td>3.2</td>\n      <td>25.6</td>\n      <td>18.4</td>\n      <td>0.0</td>\n      <td>0.0</td>\n      <td>0.0</td>\n      <td>...</td>\n      <td>0.0</td>\n      <td>0.0</td>\n      <td>200.0</td>\n      <td>0.000000</td>\n      <td>281.076869</td>\n      <td>43.656950</td>\n      <td>32.175950</td>\n      <td>52.052100</td>\n      <td>1944.962150</td>\n      <td>0</td>\n    </tr>\n    <tr>\n      <th>2</th>\n      <td>19.0</td>\n      <td>7.6</td>\n      <td>37.6</td>\n      <td>14.0</td>\n      <td>2.7</td>\n      <td>21.6</td>\n      <td>12.8</td>\n      <td>0.0</td>\n      <td>0.0</td>\n      <td>0.0</td>\n      <td>...</td>\n      <td>0.0</td>\n      <td>0.0</td>\n      <td>200.0</td>\n      <td>0.000000</td>\n      <td>232.719192</td>\n      <td>37.897100</td>\n      <td>12.266050</td>\n      <td>59.394250</td>\n      <td>2155.532950</td>\n      <td>0</td>\n    </tr>\n    <tr>\n      <th>3</th>\n      <td>4.0</td>\n      <td>-6.0</td>\n      <td>-60.8</td>\n      <td>18.8</td>\n      <td>-4.4</td>\n      <td>-35.2</td>\n      <td>10.8</td>\n      <td>0.0</td>\n      <td>0.0</td>\n      <td>0.0</td>\n      <td>...</td>\n      <td>2.0</td>\n      <td>20.0</td>\n      <td>200.0</td>\n      <td>0.000000</td>\n      <td>240.622592</td>\n      <td>40.215386</td>\n      <td>3.598443</td>\n      <td>60.656714</td>\n      <td>2925.378871</td>\n      <td>0</td>\n    </tr>\n    <tr>\n      <th>4</th>\n      <td>10.0</td>\n      <td>-5.1</td>\n      <td>-33.6</td>\n      <td>-30.4</td>\n      <td>-2.7</td>\n      <td>-21.6</td>\n      <td>-17.6</td>\n      <td>0.0</td>\n      <td>0.0</td>\n      <td>0.0</td>\n      <td>...</td>\n      <td>10.0</td>\n      <td>100.0</td>\n      <td>220.0</td>\n      <td>15.466667</td>\n      <td>291.294103</td>\n      <td>42.673879</td>\n      <td>13.117353</td>\n      <td>57.314842</td>\n      <td>2206.059189</td>\n      <td>0</td>\n    </tr>\n    <tr>\n      <th>...</th>\n      <td>...</td>\n      <td>...</td>\n      <td>...</td>\n      <td>...</td>\n      <td>...</td>\n      <td>...</td>\n      <td>...</td>\n      <td>...</td>\n      <td>...</td>\n      <td>...</td>\n      <td>...</td>\n      <td>...</td>\n      <td>...</td>\n      <td>...</td>\n      <td>...</td>\n      <td>...</td>\n      <td>...</td>\n      <td>...</td>\n      <td>...</td>\n      <td>...</td>\n      <td>...</td>\n    </tr>\n    <tr>\n      <th>7016</th>\n      <td>175.0</td>\n      <td>-9.0</td>\n      <td>-8.0</td>\n      <td>-40.0</td>\n      <td>-1.0</td>\n      <td>-8.0</td>\n      <td>-44.0</td>\n      <td>-11.0</td>\n      <td>-110.0</td>\n      <td>-50.0</td>\n      <td>...</td>\n      <td>21.0</td>\n      <td>210.0</td>\n      <td>100.0</td>\n      <td>2.666667</td>\n      <td>62.004911</td>\n      <td>41.474100</td>\n      <td>1.418093</td>\n      <td>65.950220</td>\n      <td>2223.063053</td>\n      <td>1</td>\n    </tr>\n    <tr>\n      <th>7017</th>\n      <td>155.0</td>\n      <td>4.0</td>\n      <td>64.0</td>\n      <td>-4.0</td>\n      <td>5.0</td>\n      <td>40.0</td>\n      <td>-4.0</td>\n      <td>-6.0</td>\n      <td>-60.0</td>\n      <td>-55.0</td>\n      <td>...</td>\n      <td>0.0</td>\n      <td>0.0</td>\n      <td>310.0</td>\n      <td>-10.666667</td>\n      <td>68.013048</td>\n      <td>34.367700</td>\n      <td>19.264000</td>\n      <td>41.614200</td>\n      <td>1879.884500</td>\n      <td>0</td>\n    </tr>\n    <tr>\n      <th>7018</th>\n      <td>149.0</td>\n      <td>-1.0</td>\n      <td>8.0</td>\n      <td>32.0</td>\n      <td>-1.0</td>\n      <td>-8.0</td>\n      <td>20.0</td>\n      <td>-16.0</td>\n      <td>-160.0</td>\n      <td>-30.0</td>\n      <td>...</td>\n      <td>0.0</td>\n      <td>0.0</td>\n      <td>310.0</td>\n      <td>-40.000000</td>\n      <td>281.076869</td>\n      <td>43.656950</td>\n      <td>32.175950</td>\n      <td>52.052100</td>\n      <td>1944.962150</td>\n      <td>0</td>\n    </tr>\n    <tr>\n      <th>7019</th>\n      <td>144.0</td>\n      <td>-2.0</td>\n      <td>-48.0</td>\n      <td>4.0</td>\n      <td>-10.0</td>\n      <td>-80.0</td>\n      <td>-4.0</td>\n      <td>-7.0</td>\n      <td>-70.0</td>\n      <td>-80.0</td>\n      <td>...</td>\n      <td>0.0</td>\n      <td>0.0</td>\n      <td>310.0</td>\n      <td>-80.000000</td>\n      <td>82.521374</td>\n      <td>39.486485</td>\n      <td>14.862285</td>\n      <td>71.692138</td>\n      <td>1822.645769</td>\n      <td>0</td>\n    </tr>\n    <tr>\n      <th>7020</th>\n      <td>149.0</td>\n      <td>-14.0</td>\n      <td>0.0</td>\n      <td>-24.0</td>\n      <td>0.0</td>\n      <td>0.0</td>\n      <td>-40.0</td>\n      <td>-20.0</td>\n      <td>-200.0</td>\n      <td>-35.0</td>\n      <td>...</td>\n      <td>10.0</td>\n      <td>100.0</td>\n      <td>210.0</td>\n      <td>-29.333333</td>\n      <td>68.013048</td>\n      <td>34.367700</td>\n      <td>19.264000</td>\n      <td>41.614200</td>\n      <td>1879.884500</td>\n      <td>0</td>\n    </tr>\n  </tbody>\n</table>\n<p>7021 rows × 26 columns</p>\n</div>"
     },
     "execution_count": 62,
     "metadata": {},
     "output_type": "execute_result"
    }
   ],
   "source": [
    "features_selected_set = avalanche_set[['Schneehöhe',\n",
    "                                       'Lufttemperatur_7h',\n",
    "                                       'Lufttemperatur_14h_Norm',\n",
    "                                       'Lufttemperatur_14h_Gew',\n",
    "                                       'Lufttemperatur_19h',\n",
    "                                       'Lufttemperatur_19h_Norm',\n",
    "                                       'Lufttemperatur_19h_Gew',\n",
    "                                       'Schneetemperatur',\n",
    "                                       'Schneetemperatur_Norm',\n",
    "                                       'Schneetemperatur_Gew',\n",
    "                                       'Windstärke',\n",
    "                                       'Windstärke_Gew',\n",
    "                                       'Einsinktiefe_Gew',\n",
    "                                       'Wetter_akt',\n",
    "                                       'Wetter_gestern',\n",
    "                                       'Wolken',\n",
    "                                       'Neuschnee_x',\n",
    "                                       'Neuschnee_Norm',\n",
    "                                       'Neuschnee_last4',\n",
    "                                       'Lufttemperatur_last4',\n",
    "                                       'meanExpo',\n",
    "                                       'meanSlope',\n",
    "                                       'MinSlope',\n",
    "                                       'MaxSlope',\n",
    "                                       'Altitude',\n",
    "                                       'Avalanche']]\n",
    "features_selected_set"
   ],
   "metadata": {
    "collapsed": false,
    "pycharm": {
     "name": "#%%\n"
    }
   }
  },
  {
   "cell_type": "code",
   "source": [
    "from sklearn.pipeline import make_pipeline\n",
    "from sklearn.preprocessing import StandardScaler\n",
    "from sklearn_genetic.space import Categorical, Integer, Continuous\n",
    "from sklearn import svm\n",
    "from sklearn_genetic import GASearchCV\n",
    "import numpy as np\n",
    "\n",
    "\n",
    "param_grid = {'kernel': Categorical(['rbf', 'poly', 'sigmoid', 'linear']),\n",
    "                'C': Categorical([0.1,1,2,4,7, 10, 100]),\n",
    "                'gamma': Categorical(['scale', 'auto'])}\n",
    "\n",
    "#param_grid = {'C': [0.1,1, 10, 100], 'gamma': [1,0.1,0.01,0.001],'kernel': ['rbf', 'poly', 'sigmoid']}\n",
    "\n",
    "X = StandardScaler().fit_transform(features_selected_set[features_selected_set.columns.drop('Avalanche')])\n",
    "y = features_selected_set['Avalanche']\n",
    "\n",
    "clf = svm.SVC()\n",
    "\n",
    "cv = GASearchCV(estimator=clf,\n",
    "                    cv=10,\n",
    "                    population_size=20,\n",
    "                    generations=10,\n",
    "                    tournament_size=3,\n",
    "                    elitism=True,\n",
    "                    param_grid=param_grid,\n",
    "                    scoring='accuracy',\n",
    "                    n_jobs=-1,\n",
    "                    verbose=True)\n",
    "cv.fit(X, y)"
   ],
   "metadata": {
    "collapsed": false,
    "pycharm": {
     "name": "#%%\n"
    }
   },
   "execution_count": 63,
   "outputs": [
    {
     "name": "stdout",
     "output_type": "stream",
     "text": [
      "gen\tnevals\tfitness \tfitness_std\tfitness_max\tfitness_min\n",
      "0  \t20    \t0.723761\t0.0409845  \t0.767547   \t0.614143   \n",
      "1  \t40    \t0.751259\t0.0135411  \t0.76769    \t0.728232   \n",
      "2  \t40    \t0.759806\t0.00893177 \t0.76769    \t0.735496   \n",
      "3  \t40    \t0.764129\t0.00293262 \t0.76769    \t0.759713   \n",
      "4  \t40    \t0.766415\t0.00255117 \t0.76769    \t0.759713   \n",
      "5  \t40    \t0.76739 \t0.00123901 \t0.76769    \t0.761993   \n",
      "6  \t40    \t0.766871\t0.00356993 \t0.76769    \t0.75131    \n",
      "7  \t40    \t0.766757\t0.00406693 \t0.76769    \t0.749029   \n",
      "8  \t40    \t0.766757\t0.00406693 \t0.76769    \t0.749029   \n",
      "9  \t40    \t0.767398\t0.0012403  \t0.76769    \t0.761993   \n",
      "10 \t40    \t0.767682\t3.10463e-05\t0.76769    \t0.767547   \n"
     ]
    },
    {
     "data": {
      "text/plain": "GASearchCV(cv=10, estimator=SVC(gamma='auto'), generations=10, n_jobs=-1,\n           param_grid={'C': <sklearn_genetic.space.space.Categorical object at 0x16d4ace50>,\n                       'gamma': <sklearn_genetic.space.space.Categorical object at 0x16d4ac6d0>,\n                       'kernel': <sklearn_genetic.space.space.Categorical object at 0x16d4ac1c0>},\n           population_size=20, return_train_score=True, scoring='accuracy')"
     },
     "execution_count": 63,
     "metadata": {},
     "output_type": "execute_result"
    }
   ]
  },
  {
   "cell_type": "markdown",
   "source": [
    "from sklearn.model_selection import GridSearchCV\n",
    "from sklearn.pipeline import make_pipeline\n",
    "from sklearn.preprocessing import StandardScaler\n",
    "from sklearn_genetic.space import Categorical, Integer, Continuous\n",
    "from sklearn import svm\n",
    "from sklearn_genetic import GASearchCV\n",
    "import numpy as np\n",
    "\n",
    "param_grid = {'kernel': ['rbf', 'poly', 'sigmoid'],\n",
    "              'C': [0.1,1, 10, 100],\n",
    "              'gamma': [1,0.1,0.01,0.001]}\n",
    "\n",
    "#param_grid = {'C': [0.1,1, 10, 100], 'gamma': [1,0.1,0.01,0.001],'kernel': ['rbf', 'poly', 'sigmoid']}\n",
    "\n",
    "X = features_selected_set[features_selected_set.columns.drop('Avalanche')]\n",
    "y = features_selected_set['Avalanche']\n",
    "scale = StandardScaler().fit_transform(X,y)\n",
    "\n",
    "\n",
    "clf = svm.SVC()\n",
    "\n",
    "cv = GridSearchCV(estimator=clf,\n",
    "                cv=3,\n",
    "                param_grid=param_grid,\n",
    "                scoring='accuracy',\n",
    "                n_jobs=-1,\n",
    "                verbose=True)\n",
    "cv.fit(X, y)"
   ],
   "metadata": {
    "collapsed": false,
    "pycharm": {
     "name": "#%% md\n"
    }
   }
  },
  {
   "cell_type": "code",
   "execution_count": 64,
   "outputs": [
    {
     "name": "stdout",
     "output_type": "stream",
     "text": [
      "{'kernel': 'rbf', 'C': 1.0, 'gamma': 'auto'}\n"
     ]
    }
   ],
   "source": [
    "print(cv.best_params_)"
   ],
   "metadata": {
    "collapsed": false,
    "pycharm": {
     "name": "#%%\n"
    }
   }
  }
 ],
 "metadata": {
  "kernelspec": {
   "display_name": "Python 3",
   "language": "python",
   "name": "python3"
  },
  "language_info": {
   "codemirror_mode": {
    "name": "ipython",
    "version": 2
   },
   "file_extension": ".py",
   "mimetype": "text/x-python",
   "name": "python",
   "nbconvert_exporter": "python",
   "pygments_lexer": "ipython2",
   "version": "2.7.6"
  }
 },
 "nbformat": 4,
 "nbformat_minor": 0
}